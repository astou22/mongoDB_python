{
 "cells": [
  {
   "cell_type": "code",
   "execution_count": 3,
   "metadata": {},
   "outputs": [
    {
     "name": "stdout",
     "output_type": "stream",
     "text": [
      "insert\n",
      "done\n"
     ]
    }
   ],
   "source": [
    "import pymongo \n",
    "import math\n",
    "\n",
    "# define the client, the database, and the collection\n",
    "# the database and the collection are created at first insert \n",
    "# if needed\n",
    "client = pymongo.MongoClient('localhost',27017)\n",
    "mydb = client[\"test\"]\n",
    "sinfun = mydb[\"sin\"]\n",
    "\n",
    "print('insert')\n",
    "data = []\n",
    "for i in range(100):\n",
    "    x = i/10.\n",
    "    y = math.sin(x)\n",
    "    data.append({'x':x,'y':y})\n",
    "# the list of records is written to the database in one go:\n",
    "sinfun.insert_many(data)\n",
    "print('done')"
   ]
  },
  {
   "cell_type": "markdown",
   "metadata": {},
   "source": [
    "Analyse de données depuis mongodb avec pandas"
   ]
  },
  {
   "cell_type": "code",
   "execution_count": 4,
   "metadata": {},
   "outputs": [
    {
     "data": {
      "text/plain": [
       "{'_id': ObjectId('615f794c4fe18085eda012dc'), 'x': 0.0, 'y': 0.0}"
      ]
     },
     "execution_count": 4,
     "metadata": {},
     "output_type": "execute_result"
    }
   ],
   "source": [
    "import pymongo\n",
    "client = pymongo.MongoClient('localhost')\n",
    "sinfun = client.test.sin\n",
    "sinfun.find_one()"
   ]
  },
  {
   "cell_type": "code",
   "execution_count": 5,
   "metadata": {},
   "outputs": [
    {
     "data": {
      "text/plain": [
       "[{'_id': ObjectId('615f794c4fe18085eda012dc'), 'x': 0.0, 'y': 0.0},\n",
       " {'_id': ObjectId('615f794c4fe18085eda012dd'),\n",
       "  'x': 0.1,\n",
       "  'y': 0.09983341664682815},\n",
       " {'_id': ObjectId('615f794c4fe18085eda012de'),\n",
       "  'x': 0.2,\n",
       "  'y': 0.19866933079506122},\n",
       " {'_id': ObjectId('615f794c4fe18085eda012df'),\n",
       "  'x': 0.3,\n",
       "  'y': 0.29552020666133955},\n",
       " {'_id': ObjectId('615f794c4fe18085eda012e0'),\n",
       "  'x': 0.4,\n",
       "  'y': 0.3894183423086505}]"
      ]
     },
     "execution_count": 5,
     "metadata": {},
     "output_type": "execute_result"
    }
   ],
   "source": [
    "import pandas as pd\n",
    "cursor = sinfun.find()\n",
    "entries = list(cursor)\n",
    "entries[:5]"
   ]
  },
  {
   "cell_type": "code",
   "execution_count": 6,
   "metadata": {},
   "outputs": [
    {
     "data": {
      "text/html": [
       "<div>\n",
       "<style scoped>\n",
       "    .dataframe tbody tr th:only-of-type {\n",
       "        vertical-align: middle;\n",
       "    }\n",
       "\n",
       "    .dataframe tbody tr th {\n",
       "        vertical-align: top;\n",
       "    }\n",
       "\n",
       "    .dataframe thead th {\n",
       "        text-align: right;\n",
       "    }\n",
       "</style>\n",
       "<table border=\"1\" class=\"dataframe\">\n",
       "  <thead>\n",
       "    <tr style=\"text-align: right;\">\n",
       "      <th></th>\n",
       "      <th>_id</th>\n",
       "      <th>x</th>\n",
       "      <th>y</th>\n",
       "    </tr>\n",
       "  </thead>\n",
       "  <tbody>\n",
       "    <tr>\n",
       "      <th>0</th>\n",
       "      <td>615f794c4fe18085eda012dc</td>\n",
       "      <td>0.0</td>\n",
       "      <td>0.000000</td>\n",
       "    </tr>\n",
       "    <tr>\n",
       "      <th>1</th>\n",
       "      <td>615f794c4fe18085eda012dd</td>\n",
       "      <td>0.1</td>\n",
       "      <td>0.099833</td>\n",
       "    </tr>\n",
       "    <tr>\n",
       "      <th>2</th>\n",
       "      <td>615f794c4fe18085eda012de</td>\n",
       "      <td>0.2</td>\n",
       "      <td>0.198669</td>\n",
       "    </tr>\n",
       "    <tr>\n",
       "      <th>3</th>\n",
       "      <td>615f794c4fe18085eda012df</td>\n",
       "      <td>0.3</td>\n",
       "      <td>0.295520</td>\n",
       "    </tr>\n",
       "    <tr>\n",
       "      <th>4</th>\n",
       "      <td>615f794c4fe18085eda012e0</td>\n",
       "      <td>0.4</td>\n",
       "      <td>0.389418</td>\n",
       "    </tr>\n",
       "  </tbody>\n",
       "</table>\n",
       "</div>"
      ],
      "text/plain": [
       "                        _id    x         y\n",
       "0  615f794c4fe18085eda012dc  0.0  0.000000\n",
       "1  615f794c4fe18085eda012dd  0.1  0.099833\n",
       "2  615f794c4fe18085eda012de  0.2  0.198669\n",
       "3  615f794c4fe18085eda012df  0.3  0.295520\n",
       "4  615f794c4fe18085eda012e0  0.4  0.389418"
      ]
     },
     "execution_count": 6,
     "metadata": {},
     "output_type": "execute_result"
    }
   ],
   "source": [
    "df = pd.DataFrame(entries)\n",
    "df.head()"
   ]
  },
  {
   "cell_type": "code",
   "execution_count": 7,
   "metadata": {},
   "outputs": [
    {
     "data": {
      "text/plain": [
       "<matplotlib.axes._subplots.AxesSubplot at 0xdaf0369470>"
      ]
     },
     "execution_count": 7,
     "metadata": {},
     "output_type": "execute_result"
    },
    {
     "data": {
      "image/png": "[encoded data removed]",
      "text/plain": [
       "<Figure size 432x288 with 1 Axes>"
      ]
     },
     "metadata": {
      "needs_background": "light"
     },
     "output_type": "display_data"
    }
   ],
   "source": [
    "df.plot('x')"
   ]
  },
  {
   "cell_type": "code",
   "execution_count": null,
   "metadata": {},
   "outputs": [],
   "source": []
  }
 ],
 "metadata": {
  "kernelspec": {
   "display_name": "Python 3",
   "language": "python",
   "name": "python3"
  },
  "language_info": {
   "codemirror_mode": {
    "name": "ipython",
    "version": 3
   },
   "file_extension": ".py",
   "mimetype": "text/x-python",
   "name": "python",
   "nbconvert_exporter": "python",
   "pygments_lexer": "ipython3",
   "version": "3.6.3"
  }
 },
 "nbformat": 4,
 "nbformat_minor": 4
}
